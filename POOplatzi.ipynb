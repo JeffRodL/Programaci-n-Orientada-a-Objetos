{
 "cells": [
  {
   "cell_type": "markdown",
   "metadata": {},
   "source": [
    "### Curso de programacion orientada a objetos\n"
   ]
  },
  {
   "cell_type": "code",
   "execution_count": 1,
   "metadata": {},
   "outputs": [
    {
     "name": "stdout",
     "output_type": "stream",
     "text": [
      "20\n"
     ]
    }
   ],
   "source": [
    "# Se define una clase llamada hotel que toma argumentos\n",
    "# de número máximo de huespedes y lugares_de_estacionamiento.\n",
    "class Hotel:\n",
    "    def __init__(self,\n",
    "    numero_maximo_de_huespedes,\n",
    "    lugares_de_estacionamiento):\n",
    "        self.numero_maximo_de_huespedes = numero_maximo_de_huespedes\n",
    "        self.lugares_de_estacionamiento = lugares_de_estacionamiento\n",
    "        self.huespedes = 0\n",
    "\n",
    "hotel = Hotel(numero_maximo_de_huespedes = 50, lugares_de_estacionamiento = 20)\n",
    "print(hotel.lugares_de_estacionamiento)"
   ]
  },
  {
   "cell_type": "code",
   "execution_count": 7,
   "metadata": {},
   "outputs": [
    {
     "data": {
      "text/plain": [
       "2"
      ]
     },
     "execution_count": 7,
     "metadata": {},
     "output_type": "execute_result"
    }
   ],
   "source": [
    "class Hotel:\n",
    "    def __init__(self,\n",
    "    numero_maximo_de_huespedes,\n",
    "    lugares_de_estacionamiento):\n",
    "        self.numero_maximo_de_huespedes = numero_maximo_de_huespedes\n",
    "        self.lugares_de_estacionamiento = lugares_de_estacionamiento\n",
    "        self.huespedes = 0\n",
    "\n",
    "    def añadir_huespedes(self, cantidad_de_huespedes):  #Función que añade un huesped \n",
    "        self.huespedes += cantidad_de_huespedes\n",
    "    \n",
    "    def checkout(self, cantidad_de_huespedes):          #Función que quita un huesped\n",
    "        self.huespedes -= cantidad_de_huespedes\n",
    "    \n",
    "    def ocupacion_total(self):                          #Función que da el dato de huespedes totales.\n",
    "        return self.huespedes\n",
    "\n",
    "hotel = Hotel(numero_maximo_de_huespedes = 50, lugares_de_estacionamiento = 20)\n",
    "hotel = Hotel(50,20)\n",
    "hotel.añadir_huespedes(3)\n",
    "hotel.checkout(1)\n",
    "hotel.ocupacion_total() #2"
   ]
  },
  {
   "cell_type": "code",
   "execution_count": 10,
   "metadata": {},
   "outputs": [
    {
     "data": {
      "text/plain": [
       "'Hola Erika, me llamo David.'"
      ]
     },
     "execution_count": 10,
     "metadata": {},
     "output_type": "execute_result"
    }
   ],
   "source": [
    "#definición \n",
    "\n",
    "#clase persona que tiene nombre y edad\n",
    "class Persona:\n",
    "    def __init__(self, nombre, edad):\n",
    "        self.nombre = nombre\n",
    "        self.edad = edad\n",
    "    \n",
    "    def saluda(self, otra_persona):\n",
    "        return f'Hola {otra_persona.nombre}, me llamo {self.nombre}.'\n",
    "\n",
    "#Uso\n",
    "david = Persona('David', 35)\n",
    "erika = Persona('Erika', 32)\n",
    "\n",
    "david.saluda(erika)"
   ]
  },
  {
   "cell_type": "code",
   "execution_count": null,
   "metadata": {},
   "outputs": [],
   "source": []
  },
  {
   "cell_type": "code",
   "execution_count": null,
   "metadata": {},
   "outputs": [],
   "source": []
  }
 ],
 "metadata": {
  "kernelspec": {
   "display_name": "Python 3.7.0 ('base')",
   "language": "python",
   "name": "python3"
  },
  "language_info": {
   "codemirror_mode": {
    "name": "ipython",
    "version": 3
   },
   "file_extension": ".py",
   "mimetype": "text/x-python",
   "name": "python",
   "nbconvert_exporter": "python",
   "pygments_lexer": "ipython3",
   "version": "3.7.0"
  },
  "orig_nbformat": 4,
  "vscode": {
   "interpreter": {
    "hash": "5c7abc0be778f60d49da7b3219a67b5b0a30f2975be103503a5da570d18d083b"
   }
  }
 },
 "nbformat": 4,
 "nbformat_minor": 2
}
