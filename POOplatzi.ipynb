{
 "cells": [
  {
   "cell_type": "markdown",
   "metadata": {},
   "source": [
    "### Curso de programacion orientada a objetos\n"
   ]
  },
  {
   "cell_type": "code",
   "execution_count": 1,
   "metadata": {},
   "outputs": [
    {
     "name": "stdout",
     "output_type": "stream",
     "text": [
      "20\n"
     ]
    }
   ],
   "source": [
    "# Se define una clase llamada hotel que toma argumentos\n",
    "# de número máximo de huespedes y lugares_de_estacionamiento.\n",
    "class Hotel:\n",
    "    def __init__(self,\n",
    "    numero_maximo_de_huespedes,\n",
    "    lugares_de_estacionamiento):\n",
    "        self.numero_maximo_de_huespedes = numero_maximo_de_huespedes\n",
    "        self.lugares_de_estacionamiento = lugares_de_estacionamiento\n",
    "        self.huespedes = 0\n",
    "\n",
    "hotel = Hotel(numero_maximo_de_huespedes = 50, lugares_de_estacionamiento = 20)\n",
    "print(hotel.lugares_de_estacionamiento)"
   ]
  },
  {
   "cell_type": "code",
   "execution_count": 7,
   "metadata": {},
   "outputs": [
    {
     "data": {
      "text/plain": [
       "2"
      ]
     },
     "execution_count": 7,
     "metadata": {},
     "output_type": "execute_result"
    }
   ],
   "source": [
    "class Hotel:\n",
    "    def __init__(self,\n",
    "    numero_maximo_de_huespedes,\n",
    "    lugares_de_estacionamiento):\n",
    "        self.numero_maximo_de_huespedes = numero_maximo_de_huespedes\n",
    "        self.lugares_de_estacionamiento = lugares_de_estacionamiento\n",
    "        self.huespedes = 0\n",
    "\n",
    "    def añadir_huespedes(self, cantidad_de_huespedes):  #Función que añade un huesped \n",
    "        self.huespedes += cantidad_de_huespedes\n",
    "    \n",
    "    def checkout(self, cantidad_de_huespedes):          #Función que quita un huesped\n",
    "        self.huespedes -= cantidad_de_huespedes\n",
    "    \n",
    "    def ocupacion_total(self):                          #Función que da el dato de huespedes totales.\n",
    "        return self.huespedes\n",
    "\n",
    "hotel = Hotel(numero_maximo_de_huespedes = 50, lugares_de_estacionamiento = 20)\n",
    "hotel = Hotel(50,20)\n",
    "hotel.añadir_huespedes(3)\n",
    "hotel.checkout(1)\n",
    "hotel.ocupacion_total() #2"
   ]
  },
  {
   "cell_type": "code",
   "execution_count": 10,
   "metadata": {},
   "outputs": [
    {
     "data": {
      "text/plain": [
       "'Hola Erika, me llamo David.'"
      ]
     },
     "execution_count": 10,
     "metadata": {},
     "output_type": "execute_result"
    }
   ],
   "source": [
    "#definición \n",
    "\n",
    "#clase persona que tiene nombre y edad\n",
    "class Persona:\n",
    "    def __init__(self, nombre, edad):\n",
    "        self.nombre = nombre\n",
    "        self.edad = edad\n",
    "    \n",
    "    def saluda(self, otra_persona):\n",
    "        return f'Hola {otra_persona.nombre}, me llamo {self.nombre}.'\n",
    "\n",
    "#Uso\n",
    "david = Persona('David', 35)\n",
    "erika = Persona('Erika', 32)\n",
    "\n",
    "david.saluda(erika)"
   ]
  },
  {
   "cell_type": "code",
   "execution_count": 18,
   "metadata": {},
   "outputs": [
    {
     "name": "stdout",
     "output_type": "stream",
     "text": [
      "22.02271554554524\n",
      "True\n"
     ]
    }
   ],
   "source": [
    "#clase coordenada\n",
    "\n",
    "#Clase que toma dos parámetros x y y\n",
    "class Coordenada:\n",
    "    def __init__(self, x, y):\n",
    "        self.x = x\n",
    "        self.y = y\n",
    "# Funcion que da la distancia entre dos puntos\n",
    "    def distancia(self, otra_coordenada): \n",
    "        x_diff = (self.x - otra_coordenada.x)**2\n",
    "        y_diff = (self.y - otra_coordenada.y)**2\n",
    "        return (x_diff+y_diff)**0.5\n",
    "\n",
    "if __name__ == \"__main__\":\n",
    "    coord_1 = Coordenada(3,30)\n",
    "    coord_2 = Coordenada(4,8)\n",
    "\n",
    "    #Imprimimos la distancia entre la coordenada coord1 y coord2\n",
    "    print(coord_1.distancia(coord_2))\n",
    "    #Se imprime si la coord_2 es instancia de la clase Coordenada\n",
    "    print(isinstance(coord_2, Coordenada)) \n",
    "\n"
   ]
  },
  {
   "cell_type": "code",
   "execution_count": 19,
   "metadata": {},
   "outputs": [],
   "source": [
    "#decomposición de un automovil \n",
    "class Automovil:\n",
    "    def __init__(self, modelo,marca,color):\n",
    "        self.modelo = modelo \n",
    "        self.marca = marca \n",
    "        self.color = color  \n",
    "        self._estado = 'en_reposo'\n",
    "        self._motor = Motor(cilindros=4)              #que no tiene valor\n",
    "    \n",
    "    def acelerar(self, tipo='despacio'):\n",
    "        if tipo == 'rapido':\n",
    "            self._motor.inyecta_gasolina(10)\n",
    "        else:\n",
    "            self._motor.inyecta_gasensed(3)\n",
    "            \n",
    "class Motor:\n",
    "    def __init__(self, cilindros, tipo='gasolina'): #default\n",
    "        self.cilindros = cilindros \n",
    "        self.tipo = tipo  \n",
    "        self._temperatura = 0\n",
    "    \n",
    "    def inyecta_gasolina(self, cantidad):\n",
    "        pass\n"
   ]
  },
  {
   "cell_type": "code",
   "execution_count": 21,
   "metadata": {},
   "outputs": [
    {
     "name": "stdout",
     "output_type": "stream",
     "text": [
      "llenando el tanque con agua Caliente\n",
      "añadiendo jabón\n",
      "Lavando la ropa\n",
      "Centrifugando la ropa\n"
     ]
    }
   ],
   "source": [
    "class Lavadora:\n",
    "    def __init__(self):\n",
    "        pass\n",
    "\n",
    "    def lavar(self, temperatura = 'Caliente'):\n",
    "        self._llenar_tanque_de_agua(temperatura)\n",
    "        self._añadir_jabon()\n",
    "        self._lavar()\n",
    "        self._centrifugar()\n",
    "    \n",
    "    def _llenar_tanque_de_agua(self, temperatura):\n",
    "        print(f'llenando el tanque con agua {temperatura}')\n",
    "    \n",
    "    def _añadir_jabon(self):\n",
    "        print('añadiendo jabón')\n",
    "\n",
    "    def _lavar(self):\n",
    "        print('Lavando la ropa')\n",
    "\n",
    "    def _centrifugar(self):\n",
    "        print('Centrifugando la ropa')\n",
    "\n",
    "if __name__ == '__main__':\n",
    "    lavadora = Lavadora()\n",
    "    lavadora.lavar()\n"
   ]
  },
  {
   "cell_type": "code",
   "execution_count": 23,
   "metadata": {},
   "outputs": [
    {
     "data": {
      "text/plain": [
       "27"
      ]
     },
     "execution_count": 23,
     "metadata": {},
     "output_type": "execute_result"
    }
   ],
   "source": [
    "## Función que multiplica un número se eleva a la tercera potencia\n",
    "\n",
    "def elevar_cubo(numero):\n",
    "    return numero * numero * numero \n",
    "\n",
    "elevar_cubo(3)\n"
   ]
  },
  {
   "cell_type": "code",
   "execution_count": 32,
   "metadata": {},
   "outputs": [
    {
     "data": {
      "text/plain": [
       "'hey David, aprendamos Python!'"
      ]
     },
     "execution_count": 32,
     "metadata": {},
     "output_type": "execute_result"
    }
   ],
   "source": [
    "def presentarse(nombre):\n",
    "    return f\"Me llamo {nombre}\"\n",
    "\n",
    "def estudiemos_juntos(nombre):\n",
    "    return f\"hey {nombre}, aprendamos Python!\"\n",
    "\n",
    "def consume_funciones(funcion_entrante):\n",
    "    return funcion_entrante(\"David\")\n",
    "\n",
    "consume_funciones(presentarse)\n",
    "consume_funciones(estudiemos_juntos)"
   ]
  },
  {
   "cell_type": "code",
   "execution_count": 35,
   "metadata": {},
   "outputs": [
    {
     "name": "stdout",
     "output_type": "stream",
     "text": [
      "esta es una función mayor y su mensaje de salida\n",
      "Algunos frameworks de Python son: Django, Flask y Dash\n",
      "Algunas librerías de Python son: Scikit-Learn, NumPy y Tensorflow\n"
     ]
    }
   ],
   "source": [
    "def funcion_mayor():\n",
    "    print(\"esta es una función mayor y su mensaje de salida\")\n",
    "\n",
    "    def librerias():\n",
    "        print(\"Algunas librerías de Python son: Scikit-Learn, NumPy y Tensorflow\")\n",
    "\n",
    "    def frameworks():\n",
    "        print(\"Algunos frameworks de Python son: Django, Flask y Dash\")\n",
    "\n",
    "    frameworks()\n",
    "    librerias()\n",
    "\n",
    "funcion_mayor()"
   ]
  },
  {
   "cell_type": "code",
   "execution_count": 41,
   "metadata": {},
   "outputs": [
    {
     "name": "stdout",
     "output_type": "stream",
     "text": [
      "Este es el último mensaje...\n",
      "Buzzzzzzzzzzzzzzzz\n",
      "Este es el primer mensaje...\n"
     ]
    }
   ],
   "source": [
    "def funcion_decoradora(funcion):\n",
    "    def wrapper():\n",
    "        print(\"Este es el último mensaje...\")\n",
    "        funcion()\n",
    "        print(\"Este es el primer mensaje...\")\n",
    "    return wrapper\n",
    "\n",
    "@funcion_decoradora\n",
    "def zumbido():\n",
    "    print(\"Buzzzzzzzzzzzzzzzz\")\n",
    "\n",
    "zumbido()"
   ]
  },
  {
   "cell_type": "code",
   "execution_count": 44,
   "metadata": {},
   "outputs": [
    {
     "name": "stdout",
     "output_type": "stream",
     "text": [
      "200\n",
      "321.8688\n"
     ]
    }
   ],
   "source": [
    "# Clases sin getters y setters\n",
    "\n",
    "class Millas:\n",
    "    def __init__(self, distancia = 0):\n",
    "        self.distancia = distancia\n",
    "    \n",
    "    def convertir_a_kilometros(self):\n",
    "        return (self.distancia*1.609344)\n",
    "    \n",
    "\n",
    "# Creamos un nuevo objeto\n",
    "avion = Millas()\n",
    "\n",
    "# indicamos la distancia\n",
    "avion.distancia = 200\n",
    "\n",
    "#obtenemos el atributo de la distancia\n",
    "print(avion.distancia)\n",
    "\n",
    "#Obtenemos el método convertir_a_kilometros\n",
    "print(avion.convertir_a_kilometros())"
   ]
  },
  {
   "cell_type": "code",
   "execution_count": 45,
   "metadata": {},
   "outputs": [],
   "source": [
    "class Millas:\n",
    "    def __init__(self, distancia=0):\n",
    "        self.distancia = distancia;\n",
    "    \n",
    "    def convertir_a_kilometros(self):\n",
    "        return (self.distancia*1.609344)\n",
    "    \n",
    "    #Metodo getter\n",
    "    def obtener_distancia(self):\n",
    "        return self._distancia \n",
    "    \n",
    "    #Metodo setter \n",
    "    def definir_distancia(self, valor):\n",
    "        if valor < 0:\n",
    "            raise ValueError(\"No es posible convertir distancias negativas.\")\n",
    "        self._distancia = valor \n",
    "\n",
    "\n"
   ]
  },
  {
   "cell_type": "code",
   "execution_count": 47,
   "metadata": {},
   "outputs": [
    {
     "name": "stdout",
     "output_type": "stream",
     "text": [
      "Llamada al método setter\n",
      "Llamada al método getter\n",
      "200\n"
     ]
    }
   ],
   "source": [
    "class Millas:\n",
    "    def __init__(self):\n",
    "        self._distancia = 0\n",
    "    \n",
    "    #Función para obtener el valor de _distancia.\n",
    "    def obtener_distancia(self):\n",
    "        print(\"Llamada al método getter\")\n",
    "        return self._distancia \n",
    "    \n",
    "    #función para definir el valor de _distancia.\n",
    "    def definir_distancia(self, recorrido):\n",
    "        print(\"Llamada al método setter\")\n",
    "        self._distancia = recorrido\n",
    "\n",
    "    # función para eliminar el atributo _distancia.\n",
    "    def eliminar_distancia(self):\n",
    "        del self._distancia\n",
    "\n",
    "    distancia = property(obtener_distancia, definir_distancia, eliminar_distancia)\n",
    "\n",
    "#Creamos un nuevo objeto\n",
    "avion = Millas()\n",
    "\n",
    "#Indicamos la distancia \n",
    "avion.distancia = 200\n",
    "\n",
    "#Obtenemos su atributo _distancia.\n",
    "print(avion.distancia)"
   ]
  },
  {
   "cell_type": "code",
   "execution_count": 53,
   "metadata": {},
   "outputs": [
    {
     "name": "stdout",
     "output_type": "stream",
     "text": [
      "Llamada al método getter\n",
      "0\n"
     ]
    }
   ],
   "source": [
    "class Millas:\n",
    "\tdef __init__(self):\n",
    "\t\tself._distancia = 0\n",
    "\n",
    "\t# Función para obtener el valor de _distancia\n",
    "\t# Usando el decorador property\n",
    "\t@property\n",
    "\tdef obtener_distancia(self):\n",
    "\t\tprint(\"Llamada al método getter\")\n",
    "\t\treturn self._distancia\n",
    "\n",
    "\t# Función para definir el valor de _distancia\n",
    "\t@obtener_distancia.setter\n",
    "\tdef definir_distancia(self, valor):\n",
    "\t\tif valor < 0:\n",
    "\t\t\traise ValueError(\"No es posible convertir distancias menores a 0.\")\n",
    "\t\tprint(\"Llamada al método setter\")\n",
    "\t\tself._distancia = valor\n",
    "\n",
    "# Creamos un nuevo objeto \n",
    "avion = Millas()\n",
    "\n",
    "# Indicamos la distancia\n",
    "avion.distancia = 200\n",
    "\n",
    "# Obtenemos su atributo distancia\n",
    "print(avion.definir_distancia)\n"
   ]
  },
  {
   "cell_type": "code",
   "execution_count": 56,
   "metadata": {},
   "outputs": [
    {
     "name": "stdout",
     "output_type": "stream",
     "text": [
      "Jefferson 1234\n"
     ]
    }
   ],
   "source": [
    "## Atributos protegidos en Python\n",
    "\n",
    "class usuario(object):\n",
    "    def __init__(self, name, password):\n",
    "        self.name = name\n",
    "        self._password = password\n",
    "\n",
    "Usuario1 = usuario(\"Jefferson\",\"1234\")\n",
    "print(Usuario1.name,Usuario1._password)"
   ]
  },
  {
   "cell_type": "code",
   "execution_count": 1,
   "metadata": {},
   "outputs": [
    {
     "ename": "AttributeError",
     "evalue": "'usuario' object has no attribute '__clave'",
     "output_type": "error",
     "traceback": [
      "\u001b[0;31m---------------------------------------------------------------------------\u001b[0m",
      "\u001b[0;31mAttributeError\u001b[0m                            Traceback (most recent call last)",
      "\u001b[1;32m/home/jeffersonrl/Codes/POO Platzi/POOplatzi.ipynb Celda 17\u001b[0m in \u001b[0;36m<cell line: 9>\u001b[0;34m()\u001b[0m\n\u001b[1;32m      <a href='vscode-notebook-cell:/home/jeffersonrl/Codes/POO%20Platzi/POOplatzi.ipynb#ch0000021?line=5'>6</a>\u001b[0m         \u001b[39mself\u001b[39m\u001b[39m.\u001b[39m__clave \u001b[39m=\u001b[39m clave\n\u001b[1;32m      <a href='vscode-notebook-cell:/home/jeffersonrl/Codes/POO%20Platzi/POOplatzi.ipynb#ch0000021?line=7'>8</a>\u001b[0m Usuario1 \u001b[39m=\u001b[39m usuario (\u001b[39m\"\u001b[39m\u001b[39mRoberto\u001b[39m\u001b[39m\"\u001b[39m, \u001b[39m\"\u001b[39m\u001b[39mqwerty\u001b[39m\u001b[39m\"\u001b[39m)\n\u001b[0;32m----> <a href='vscode-notebook-cell:/home/jeffersonrl/Codes/POO%20Platzi/POOplatzi.ipynb#ch0000021?line=8'>9</a>\u001b[0m \u001b[39mprint\u001b[39m (Usuario1\u001b[39m.\u001b[39mnombre, Usuario1\u001b[39m.\u001b[39;49m__clave)\n",
      "\u001b[0;31mAttributeError\u001b[0m: 'usuario' object has no attribute '__clave'"
     ]
    }
   ],
   "source": [
    "#Atributos privados en python\n",
    "\n",
    "class usuario (object):\n",
    "    def __init__(self, nombre, clave):\n",
    "        self.nombre = nombre\n",
    "        self.__clave = clave\n",
    "        \n",
    "Usuario1 = usuario (\"Roberto\", \"qwerty\")\n",
    "print (Usuario1.nombre, Usuario1.__clave)"
   ]
  },
  {
   "cell_type": "code",
   "execution_count": 2,
   "metadata": {},
   "outputs": [
    {
     "name": "stdout",
     "output_type": "stream",
     "text": [
      "Jefferson 123qwe\n"
     ]
    }
   ],
   "source": [
    "class usuario(object):\n",
    "    def __init__(self, name, password):\n",
    "        self.name = name\n",
    "        self.__password = password \n",
    "\n",
    "Usuario1 = usuario(\"Jefferson\", \"123qwe\")\n",
    "print(Usuario1.name, Usuario1._usuario__password)\n"
   ]
  },
  {
   "cell_type": "code",
   "execution_count": 4,
   "metadata": {},
   "outputs": [
    {
     "name": "stdout",
     "output_type": "stream",
     "text": [
      "Modificando nombre..\n",
      "El nombre se ha modificado por\n",
      "Tom\n",
      "Tom\n",
      "Modificando nombre..\n",
      "El nombre se ha modificado por\n",
      "Tomasito\n",
      "Borrando nombre...\n"
     ]
    }
   ],
   "source": [
    "class Perros(object):                   #Declaramos la clase principal Perros\n",
    "    def __init__(self, nombre, peso):   #Definimos los parámetros \n",
    "        self.nombre = nombre;           #Declaramos los atributos (Privados ocultos)\n",
    "        self.__peso = peso              \n",
    "    @property \n",
    "    def nombre(self):                   #Definimos el método para obtener el nombre\n",
    "        \"Documentación del método nombre\"#Documento del método \n",
    "        return self.__nombre            #Aquí simplemente estamos retornando el atributo privado oculto \n",
    "\n",
    "    # Hasta aquí definimos los métodos para obtener los atributos ocultos o privados getter \n",
    "    #Ahora vamos a utilizar setter y deleter para modificarlos  \n",
    "\n",
    "    @nombre.setter                      #Propiedad Setter \n",
    "    def nombre(self,nuevo):\n",
    "        print(\"Modificando nombre..\")\n",
    "        self.__nombre = nuevo\n",
    "        print(\"El nombre se ha modificado por\")\n",
    "        print(self.__nombre)\n",
    "    #Aquí vuelvo a pedir que retorne el atributo para confirmar\n",
    "    @nombre.deleter                     #Propiedad Deleter\n",
    "    def nombre(self):\n",
    "        print(\"Borrando nombre...\")\n",
    "        del self.__nombre \n",
    "#-------------------Hasta aquí llega Property------------------------------------\n",
    "\n",
    "    def peso(self):                     #Definimos el método para obtener el pase\n",
    "        return self.__peso              #Aquí simplemente estamos retornando el atributo privado \n",
    "\n",
    "#Instanciamos \n",
    "Tomas = Perros('Tom', 27)\n",
    "print(Tomas.nombre)                     #Imprimimos el nombre de Tomas. Se hace a través de getter\n",
    "                                        #Que en este caso como esta luego de property lo toma como el primer método...\n",
    "Tomas.nombre = 'Tomasito'               #Cambiamos el atributo nombre que se hace a través de setter. \n",
    "del Tomas.nombre                        #Borramos el nombre utilizando deleter.                                      "
   ]
  },
  {
   "cell_type": "code",
   "execution_count": 5,
   "metadata": {},
   "outputs": [
    {
     "name": "stdout",
     "output_type": "stream",
     "text": [
      "Tom\n",
      "Modificando nombre..\n",
      "El nombre se ha modificado por\n",
      "Tomasito\n",
      "Tomasito\n",
      "El peso ahora es\n",
      "28\n",
      "Borrando nombre..\n"
     ]
    }
   ],
   "source": [
    "class Perros(object):                       #Declaramos la clase principal Perros\n",
    "    def __init__(self, nombre, peso):       #Definimos los parámetros \n",
    "        self.__nombre = nombre              #Declaramos los atributos\n",
    "        self.__peso = peso\n",
    "    @property\n",
    "    def nombre(self):                       #Definimos el método para obtener el nombre\n",
    "        \"Documentación del método nombre bla bla\" # Doc del método\n",
    "        return self.__nombre                #Aquí simplemente estamos retornando el atributo privado\n",
    "#Hasta aquí definimos los métodos para obtener los atributos ocultos o privados getter.\n",
    "#Ahora vamos a utilizar setter y deleter para modificarlos\n",
    "    @nombre.setter #Propiedad SETTER\n",
    "    def nombre(self, nuevo):\n",
    "        print (\"Modificando nombre..\")\n",
    "        self.__nombre = nuevo\n",
    "        print (\"El nombre se ha modificado por\")\n",
    "        print (self.__nombre)               #Aquí vuelvo a pedir que retorne el atributo para confirmar\n",
    "    @nombre.deleter                         #Propiedad DELETER\n",
    "    def nombre(self): \n",
    "        print(\"Borrando nombre..\")\n",
    "        del self.__nombre\n",
    "        \n",
    "    @property\n",
    "    def peso(self):                         #Definimos el método para obtener el peso #Automáticamente GETTER\n",
    "        return self.__peso                  #Aquí simplemente estamos retornando el atributo privado\n",
    "    @peso.setter\n",
    "    def peso(self, nuevopeso):\n",
    "        self.__peso = nuevopeso\n",
    "        print (\"El peso ahora es\")\n",
    "        print (self.__peso)\n",
    "    @peso.deleter                           #Propiedad DELETER\n",
    "    def peso(self): \n",
    "        print(\"Borrando peso..\")\n",
    "        del self.__peso\n",
    "#Instanciamos\n",
    "Tomas = Perros('Tom', 27)\n",
    "print (Tomas.nombre)                        #Imprimimos el nombre de Tomas. Se hace a través de getter\n",
    "                                            #Que en este caso como esta luego de property lo toma como el primer método..\n",
    "Tomas.nombre = 'Tomasito'                   #Cambiamos el atributo nombre que se hace a través de setter\n",
    "print (Tomas.nombre)                        #Volvemos a imprimir\n",
    "Tomas.peso = 28\n",
    "del Tomas.nombre                            #Borramos el nombre utilizando deleter"
   ]
  }
 ],
 "metadata": {
  "kernelspec": {
   "display_name": "Python 3.10.4 64-bit",
   "language": "python",
   "name": "python3"
  },
  "language_info": {
   "codemirror_mode": {
    "name": "ipython",
    "version": 3
   },
   "file_extension": ".py",
   "mimetype": "text/x-python",
   "name": "python",
   "nbconvert_exporter": "python",
   "pygments_lexer": "ipython3",
   "version": "3.10.4"
  },
  "orig_nbformat": 4,
  "vscode": {
   "interpreter": {
    "hash": "916dbcbb3f70747c44a77c7bcd40155683ae19c65e1c03b4aa3499c5328201f1"
   }
  }
 },
 "nbformat": 4,
 "nbformat_minor": 2
}
