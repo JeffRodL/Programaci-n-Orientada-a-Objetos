{
 "cells": [
  {
   "cell_type": "markdown",
   "metadata": {},
   "source": [
    "### Curso de programacion orientada a objetos\n"
   ]
  },
  {
   "cell_type": "code",
   "execution_count": 1,
   "metadata": {},
   "outputs": [
    {
     "name": "stdout",
     "output_type": "stream",
     "text": [
      "20\n"
     ]
    }
   ],
   "source": [
    "# Se define una clase llamada hotel que toma argumentos\n",
    "# de número máximo de huespedes y lugares_de_estacionamiento.\n",
    "class Hotel:\n",
    "    def __init__(self,\n",
    "    numero_maximo_de_huespedes,\n",
    "    lugares_de_estacionamiento):\n",
    "        self.numero_maximo_de_huespedes = numero_maximo_de_huespedes\n",
    "        self.lugares_de_estacionamiento = lugares_de_estacionamiento\n",
    "        self.huespedes = 0\n",
    "\n",
    "hotel = Hotel(numero_maximo_de_huespedes = 50, lugares_de_estacionamiento = 20)\n",
    "print(hotel.lugares_de_estacionamiento)"
   ]
  },
  {
   "cell_type": "code",
   "execution_count": 7,
   "metadata": {},
   "outputs": [
    {
     "data": {
      "text/plain": [
       "2"
      ]
     },
     "execution_count": 7,
     "metadata": {},
     "output_type": "execute_result"
    }
   ],
   "source": [
    "class Hotel:\n",
    "    def __init__(self,\n",
    "    numero_maximo_de_huespedes,\n",
    "    lugares_de_estacionamiento):\n",
    "        self.numero_maximo_de_huespedes = numero_maximo_de_huespedes\n",
    "        self.lugares_de_estacionamiento = lugares_de_estacionamiento\n",
    "        self.huespedes = 0\n",
    "\n",
    "    def añadir_huespedes(self, cantidad_de_huespedes):  #Función que añade un huesped \n",
    "        self.huespedes += cantidad_de_huespedes\n",
    "    \n",
    "    def checkout(self, cantidad_de_huespedes):          #Función que quita un huesped\n",
    "        self.huespedes -= cantidad_de_huespedes\n",
    "    \n",
    "    def ocupacion_total(self):                          #Función que da el dato de huespedes totales.\n",
    "        return self.huespedes\n",
    "\n",
    "hotel = Hotel(numero_maximo_de_huespedes = 50, lugares_de_estacionamiento = 20)\n",
    "hotel = Hotel(50,20)\n",
    "hotel.añadir_huespedes(3)\n",
    "hotel.checkout(1)\n",
    "hotel.ocupacion_total() #2"
   ]
  },
  {
   "cell_type": "code",
   "execution_count": 10,
   "metadata": {},
   "outputs": [
    {
     "data": {
      "text/plain": [
       "'Hola Erika, me llamo David.'"
      ]
     },
     "execution_count": 10,
     "metadata": {},
     "output_type": "execute_result"
    }
   ],
   "source": [
    "#definición \n",
    "\n",
    "#clase persona que tiene nombre y edad\n",
    "class Persona:\n",
    "    def __init__(self, nombre, edad):\n",
    "        self.nombre = nombre\n",
    "        self.edad = edad\n",
    "    \n",
    "    def saluda(self, otra_persona):\n",
    "        return f'Hola {otra_persona.nombre}, me llamo {self.nombre}.'\n",
    "\n",
    "#Uso\n",
    "david = Persona('David', 35)\n",
    "erika = Persona('Erika', 32)\n",
    "\n",
    "david.saluda(erika)"
   ]
  },
  {
   "cell_type": "code",
   "execution_count": 18,
   "metadata": {},
   "outputs": [
    {
     "name": "stdout",
     "output_type": "stream",
     "text": [
      "22.02271554554524\n",
      "True\n"
     ]
    }
   ],
   "source": [
    "#clase coordenada\n",
    "\n",
    "#Clase que toma dos parámetros x y y\n",
    "class Coordenada:\n",
    "    def __init__(self, x, y):\n",
    "        self.x = x\n",
    "        self.y = y\n",
    "# Funcion que da la distancia entre dos puntos\n",
    "    def distancia(self, otra_coordenada): \n",
    "        x_diff = (self.x - otra_coordenada.x)**2\n",
    "        y_diff = (self.y - otra_coordenada.y)**2\n",
    "        return (x_diff+y_diff)**0.5\n",
    "\n",
    "if __name__ == \"__main__\":\n",
    "    coord_1 = Coordenada(3,30)\n",
    "    coord_2 = Coordenada(4,8)\n",
    "\n",
    "    #Imprimimos la distancia entre la coordenada coord1 y coord2\n",
    "    print(coord_1.distancia(coord_2))\n",
    "    #Se imprime si la coord_2 es instancia de la clase Coordenada\n",
    "    print(isinstance(coord_2, Coordenada)) \n",
    "\n"
   ]
  },
  {
   "cell_type": "code",
   "execution_count": 19,
   "metadata": {},
   "outputs": [],
   "source": [
    "#decomposición de un automovil \n",
    "class Automovil:\n",
    "    def __init__(self, modelo,marca,color):\n",
    "        self.modelo = modelo \n",
    "        self.marca = marca \n",
    "        self.color = color  \n",
    "        self._estado = 'en_reposo'\n",
    "        self._motor = Motor(cilindros=4)              #que no tiene valor\n",
    "    \n",
    "    def acelerar(self, tipo='despacio'):\n",
    "        if tipo == 'rapido':\n",
    "            self._motor.inyecta_gasolina(10)\n",
    "        else:\n",
    "            self._motor.inyecta_gasensed(3)\n",
    "            \n",
    "class Motor:\n",
    "    def __init__(self, cilindros, tipo='gasolina'): #default\n",
    "        self.cilindros = cilindros \n",
    "        self.tipo = tipo  \n",
    "        self._temperatura = 0\n",
    "    \n",
    "    def inyecta_gasolina(self, cantidad):\n",
    "        pass\n"
   ]
  },
  {
   "cell_type": "code",
   "execution_count": 21,
   "metadata": {},
   "outputs": [
    {
     "name": "stdout",
     "output_type": "stream",
     "text": [
      "llenando el tanque con agua Caliente\n",
      "añadiendo jabón\n",
      "Lavando la ropa\n",
      "Centrifugando la ropa\n"
     ]
    }
   ],
   "source": [
    "class Lavadora:\n",
    "    def __init__(self):\n",
    "        pass\n",
    "\n",
    "    def lavar(self, temperatura = 'Caliente'):\n",
    "        self._llenar_tanque_de_agua(temperatura)\n",
    "        self._añadir_jabon()\n",
    "        self._lavar()\n",
    "        self._centrifugar()\n",
    "    \n",
    "    def _llenar_tanque_de_agua(self, temperatura):\n",
    "        print(f'llenando el tanque con agua {temperatura}')\n",
    "    \n",
    "    def _añadir_jabon(self):\n",
    "        print('añadiendo jabón')\n",
    "\n",
    "    def _lavar(self):\n",
    "        print('Lavando la ropa')\n",
    "\n",
    "    def _centrifugar(self):\n",
    "        print('Centrifugando la ropa')\n",
    "\n",
    "if __name__ == '__main__':\n",
    "    lavadora = Lavadora()\n",
    "    lavadora.lavar()\n"
   ]
  },
  {
   "cell_type": "code",
   "execution_count": 23,
   "metadata": {},
   "outputs": [
    {
     "data": {
      "text/plain": [
       "27"
      ]
     },
     "execution_count": 23,
     "metadata": {},
     "output_type": "execute_result"
    }
   ],
   "source": [
    "## Función que multiplica un número se eleva a la tercera potencia\n",
    "\n",
    "def elevar_cubo(numero):\n",
    "    return numero * numero * numero \n",
    "\n",
    "elevar_cubo(3)\n"
   ]
  },
  {
   "cell_type": "code",
   "execution_count": 32,
   "metadata": {},
   "outputs": [
    {
     "data": {
      "text/plain": [
       "'hey David, aprendamos Python!'"
      ]
     },
     "execution_count": 32,
     "metadata": {},
     "output_type": "execute_result"
    }
   ],
   "source": [
    "def presentarse(nombre):\n",
    "    return f\"Me llamo {nombre}\"\n",
    "\n",
    "def estudiemos_juntos(nombre):\n",
    "    return f\"hey {nombre}, aprendamos Python!\"\n",
    "\n",
    "def consume_funciones(funcion_entrante):\n",
    "    return funcion_entrante(\"David\")\n",
    "\n",
    "consume_funciones(presentarse)\n",
    "consume_funciones(estudiemos_juntos)"
   ]
  },
  {
   "cell_type": "code",
   "execution_count": 35,
   "metadata": {},
   "outputs": [
    {
     "name": "stdout",
     "output_type": "stream",
     "text": [
      "esta es una función mayor y su mensaje de salida\n",
      "Algunos frameworks de Python son: Django, Flask y Dash\n",
      "Algunas librerías de Python son: Scikit-Learn, NumPy y Tensorflow\n"
     ]
    }
   ],
   "source": [
    "def funcion_mayor():\n",
    "    print(\"esta es una función mayor y su mensaje de salida\")\n",
    "\n",
    "    def librerias():\n",
    "        print(\"Algunas librerías de Python son: Scikit-Learn, NumPy y Tensorflow\")\n",
    "\n",
    "    def frameworks():\n",
    "        print(\"Algunos frameworks de Python son: Django, Flask y Dash\")\n",
    "\n",
    "    frameworks()\n",
    "    librerias()\n",
    "\n",
    "funcion_mayor()"
   ]
  },
  {
   "cell_type": "code",
   "execution_count": 41,
   "metadata": {},
   "outputs": [
    {
     "name": "stdout",
     "output_type": "stream",
     "text": [
      "Este es el último mensaje...\n",
      "Buzzzzzzzzzzzzzzzz\n",
      "Este es el primer mensaje...\n"
     ]
    }
   ],
   "source": [
    "def funcion_decoradora(funcion):\n",
    "    def wrapper():\n",
    "        print(\"Este es el último mensaje...\")\n",
    "        funcion()\n",
    "        print(\"Este es el primer mensaje...\")\n",
    "    return wrapper\n",
    "\n",
    "@funcion_decoradora\n",
    "def zumbido():\n",
    "    print(\"Buzzzzzzzzzzzzzzzz\")\n",
    "\n",
    "zumbido()"
   ]
  },
  {
   "cell_type": "code",
   "execution_count": 44,
   "metadata": {},
   "outputs": [
    {
     "name": "stdout",
     "output_type": "stream",
     "text": [
      "200\n",
      "321.8688\n"
     ]
    }
   ],
   "source": [
    "# Clases sin getters y setters\n",
    "\n",
    "class Millas:\n",
    "    def __init__(self, distancia = 0):\n",
    "        self.distancia = distancia\n",
    "    \n",
    "    def convertir_a_kilometros(self):\n",
    "        return (self.distancia*1.609344)\n",
    "    \n",
    "\n",
    "# Creamos un nuevo objeto\n",
    "avion = Millas()\n",
    "\n",
    "# indicamos la distancia\n",
    "avion.distancia = 200\n",
    "\n",
    "#obtenemos el atributo de la distancia\n",
    "print(avion.distancia)\n",
    "\n",
    "#Obtenemos el método convertir_a_kilometros\n",
    "print(avion.convertir_a_kilometros())"
   ]
  },
  {
   "cell_type": "code",
   "execution_count": 45,
   "metadata": {},
   "outputs": [],
   "source": [
    "class Millas:\n",
    "    def __init__(self, distancia=0):\n",
    "        self.distancia = distancia;\n",
    "    \n",
    "    def convertir_a_kilometros(self):\n",
    "        return (self.distancia*1.609344)\n",
    "    \n",
    "    #Metodo getter\n",
    "    def obtener_distancia(self):\n",
    "        return self._distancia \n",
    "    \n",
    "    #Metodo setter \n",
    "    def definir_distancia(self, valor):\n",
    "        if valor < 0:\n",
    "            raise ValueError(\"No es posible convertir distancias negativas.\")\n",
    "        self._distancia = valor \n",
    "\n",
    "\n"
   ]
  },
  {
   "cell_type": "code",
   "execution_count": 47,
   "metadata": {},
   "outputs": [
    {
     "name": "stdout",
     "output_type": "stream",
     "text": [
      "Llamada al método setter\n",
      "Llamada al método getter\n",
      "200\n"
     ]
    }
   ],
   "source": [
    "class Millas:\n",
    "    def __init__(self):\n",
    "        self._distancia = 0\n",
    "    \n",
    "    #Función para obtener el valor de _distancia.\n",
    "    def obtener_distancia(self):\n",
    "        print(\"Llamada al método getter\")\n",
    "        return self._distancia \n",
    "    \n",
    "    #función para definir el valor de _distancia.\n",
    "    def definir_distancia(self, recorrido):\n",
    "        print(\"Llamada al método setter\")\n",
    "        self._distancia = recorrido\n",
    "\n",
    "    # función para eliminar el atributo _distancia.\n",
    "    def eliminar_distancia(self):\n",
    "        del self._distancia\n",
    "\n",
    "    distancia = property(obtener_distancia, definir_distancia, eliminar_distancia)\n",
    "\n",
    "#Creamos un nuevo objeto\n",
    "avion = Millas()\n",
    "\n",
    "#Indicamos la distancia \n",
    "avion.distancia = 200\n",
    "\n",
    "#Obtenemos su atributo _distancia.\n",
    "print(avion.distancia)"
   ]
  },
  {
   "cell_type": "code",
   "execution_count": 53,
   "metadata": {},
   "outputs": [
    {
     "name": "stdout",
     "output_type": "stream",
     "text": [
      "Llamada al método getter\n",
      "0\n"
     ]
    }
   ],
   "source": [
    "class Millas:\n",
    "\tdef __init__(self):\n",
    "\t\tself._distancia = 0\n",
    "\n",
    "\t# Función para obtener el valor de _distancia\n",
    "\t# Usando el decorador property\n",
    "\t@property\n",
    "\tdef obtener_distancia(self):\n",
    "\t\tprint(\"Llamada al método getter\")\n",
    "\t\treturn self._distancia\n",
    "\n",
    "\t# Función para definir el valor de _distancia\n",
    "\t@obtener_distancia.setter\n",
    "\tdef definir_distancia(self, valor):\n",
    "\t\tif valor < 0:\n",
    "\t\t\traise ValueError(\"No es posible convertir distancias menores a 0.\")\n",
    "\t\tprint(\"Llamada al método setter\")\n",
    "\t\tself._distancia = valor\n",
    "\n",
    "# Creamos un nuevo objeto \n",
    "avion = Millas()\n",
    "\n",
    "# Indicamos la distancia\n",
    "avion.distancia = 200\n",
    "\n",
    "# Obtenemos su atributo distancia\n",
    "print(avion.definir_distancia)\n"
   ]
  },
  {
   "cell_type": "code",
   "execution_count": 56,
   "metadata": {},
   "outputs": [
    {
     "name": "stdout",
     "output_type": "stream",
     "text": [
      "Jefferson 1234\n"
     ]
    }
   ],
   "source": [
    "## Atributos protegidos en Python\n",
    "\n",
    "class usuario(object):\n",
    "    def __init__(self, name, password):\n",
    "        self.name = name\n",
    "        self._password = password\n",
    "\n",
    "Usuario1 = usuario(\"Jefferson\",\"1234\")\n",
    "print(Usuario1.name,Usuario1._password)"
   ]
  },
  {
   "cell_type": "code",
   "execution_count": 1,
   "metadata": {},
   "outputs": [
    {
     "ename": "AttributeError",
     "evalue": "'usuario' object has no attribute '__clave'",
     "output_type": "error",
     "traceback": [
      "\u001b[0;31m---------------------------------------------------------------------------\u001b[0m",
      "\u001b[0;31mAttributeError\u001b[0m                            Traceback (most recent call last)",
      "\u001b[1;32m/home/jeffersonrl/Codes/POO Platzi/POOplatzi.ipynb Celda 17\u001b[0m in \u001b[0;36m<cell line: 9>\u001b[0;34m()\u001b[0m\n\u001b[1;32m      <a href='vscode-notebook-cell:/home/jeffersonrl/Codes/POO%20Platzi/POOplatzi.ipynb#ch0000021?line=5'>6</a>\u001b[0m         \u001b[39mself\u001b[39m\u001b[39m.\u001b[39m__clave \u001b[39m=\u001b[39m clave\n\u001b[1;32m      <a href='vscode-notebook-cell:/home/jeffersonrl/Codes/POO%20Platzi/POOplatzi.ipynb#ch0000021?line=7'>8</a>\u001b[0m Usuario1 \u001b[39m=\u001b[39m usuario (\u001b[39m\"\u001b[39m\u001b[39mRoberto\u001b[39m\u001b[39m\"\u001b[39m, \u001b[39m\"\u001b[39m\u001b[39mqwerty\u001b[39m\u001b[39m\"\u001b[39m)\n\u001b[0;32m----> <a href='vscode-notebook-cell:/home/jeffersonrl/Codes/POO%20Platzi/POOplatzi.ipynb#ch0000021?line=8'>9</a>\u001b[0m \u001b[39mprint\u001b[39m (Usuario1\u001b[39m.\u001b[39mnombre, Usuario1\u001b[39m.\u001b[39;49m__clave)\n",
      "\u001b[0;31mAttributeError\u001b[0m: 'usuario' object has no attribute '__clave'"
     ]
    }
   ],
   "source": [
    "#Atributos privados en python\n",
    "\n",
    "class usuario (object):\n",
    "    def __init__(self, nombre, clave):\n",
    "        self.nombre = nombre\n",
    "        self.__clave = clave\n",
    "        \n",
    "Usuario1 = usuario (\"Roberto\", \"qwerty\")\n",
    "print (Usuario1.nombre, Usuario1.__clave)"
   ]
  },
  {
   "cell_type": "code",
   "execution_count": 2,
   "metadata": {},
   "outputs": [
    {
     "name": "stdout",
     "output_type": "stream",
     "text": [
      "Jefferson 123qwe\n"
     ]
    }
   ],
   "source": [
    "class usuario(object):\n",
    "    def __init__(self, name, password):\n",
    "        self.name = name\n",
    "        self.__password = password \n",
    "\n",
    "Usuario1 = usuario(\"Jefferson\", \"123qwe\")\n",
    "print(Usuario1.name, Usuario1._usuario__password)\n"
   ]
  },
  {
   "cell_type": "code",
   "execution_count": 4,
   "metadata": {},
   "outputs": [
    {
     "name": "stdout",
     "output_type": "stream",
     "text": [
      "Modificando nombre..\n",
      "El nombre se ha modificado por\n",
      "Tom\n",
      "Tom\n",
      "Modificando nombre..\n",
      "El nombre se ha modificado por\n",
      "Tomasito\n",
      "Borrando nombre...\n"
     ]
    }
   ],
   "source": [
    "class Perros(object):                   #Declaramos la clase principal Perros\n",
    "    def __init__(self, nombre, peso):   #Definimos los parámetros \n",
    "        self.nombre = nombre;           #Declaramos los atributos (Privados ocultos)\n",
    "        self.__peso = peso              \n",
    "    @property \n",
    "    def nombre(self):                   #Definimos el método para obtener el nombre\n",
    "        \"Documentación del método nombre\"#Documento del método \n",
    "        return self.__nombre            #Aquí simplemente estamos retornando el atributo privado oculto \n",
    "\n",
    "    # Hasta aquí definimos los métodos para obtener los atributos ocultos o privados getter \n",
    "    #Ahora vamos a utilizar setter y deleter para modificarlos  \n",
    "\n",
    "    @nombre.setter                      #Propiedad Setter \n",
    "    def nombre(self,nuevo):\n",
    "        print(\"Modificando nombre..\")\n",
    "        self.__nombre = nuevo\n",
    "        print(\"El nombre se ha modificado por\")\n",
    "        print(self.__nombre)\n",
    "    #Aquí vuelvo a pedir que retorne el atributo para confirmar\n",
    "    @nombre.deleter                     #Propiedad Deleter\n",
    "    def nombre(self):\n",
    "        print(\"Borrando nombre...\")\n",
    "        del self.__nombre \n",
    "#-------------------Hasta aquí llega Property------------------------------------\n",
    "\n",
    "    def peso(self):                     #Definimos el método para obtener el pase\n",
    "        return self.__peso              #Aquí simplemente estamos retornando el atributo privado \n",
    "\n",
    "#Instanciamos \n",
    "Tomas = Perros('Tom', 27)\n",
    "print(Tomas.nombre)                     #Imprimimos el nombre de Tomas. Se hace a través de getter\n",
    "                                        #Que en este caso como esta luego de property lo toma como el primer método...\n",
    "Tomas.nombre = 'Tomasito'               #Cambiamos el atributo nombre que se hace a través de setter. \n",
    "del Tomas.nombre                        #Borramos el nombre utilizando deleter.                                      "
   ]
  },
  {
   "cell_type": "code",
   "execution_count": 5,
   "metadata": {},
   "outputs": [
    {
     "name": "stdout",
     "output_type": "stream",
     "text": [
      "Tom\n",
      "Modificando nombre..\n",
      "El nombre se ha modificado por\n",
      "Tomasito\n",
      "Tomasito\n",
      "El peso ahora es\n",
      "28\n",
      "Borrando nombre..\n"
     ]
    }
   ],
   "source": [
    "class Perros(object):                       #Declaramos la clase principal Perros\n",
    "    def __init__(self, nombre, peso):       #Definimos los parámetros \n",
    "        self.__nombre = nombre              #Declaramos los atributos\n",
    "        self.__peso = peso\n",
    "    @property\n",
    "    def nombre(self):                       #Definimos el método para obtener el nombre\n",
    "        \"Documentación del método nombre bla bla\" # Doc del método\n",
    "        return self.__nombre                #Aquí simplemente estamos retornando el atributo privado\n",
    "#Hasta aquí definimos los métodos para obtener los atributos ocultos o privados getter.\n",
    "#Ahora vamos a utilizar setter y deleter para modificarlos\n",
    "    @nombre.setter #Propiedad SETTER\n",
    "    def nombre(self, nuevo):\n",
    "        print (\"Modificando nombre..\")\n",
    "        self.__nombre = nuevo\n",
    "        print (\"El nombre se ha modificado por\")\n",
    "        print (self.__nombre)               #Aquí vuelvo a pedir que retorne el atributo para confirmar\n",
    "    @nombre.deleter                         #Propiedad DELETER\n",
    "    def nombre(self): \n",
    "        print(\"Borrando nombre..\")\n",
    "        del self.__nombre\n",
    "        \n",
    "    @property\n",
    "    def peso(self):                         #Definimos el método para obtener el peso #Automáticamente GETTER\n",
    "        return self.__peso                  #Aquí simplemente estamos retornando el atributo privado\n",
    "    @peso.setter\n",
    "    def peso(self, nuevopeso):\n",
    "        self.__peso = nuevopeso\n",
    "        print (\"El peso ahora es\")\n",
    "        print (self.__peso)\n",
    "    @peso.deleter                           #Propiedad DELETER\n",
    "    def peso(self): \n",
    "        print(\"Borrando peso..\")\n",
    "        del self.__peso\n",
    "#Instanciamos\n",
    "Tomas = Perros('Tom', 27)\n",
    "print (Tomas.nombre)                        #Imprimimos el nombre de Tomas. Se hace a través de getter\n",
    "                                            #Que en este caso como esta luego de property lo toma como el primer método..\n",
    "Tomas.nombre = 'Tomasito'                   #Cambiamos el atributo nombre que se hace a través de setter\n",
    "print (Tomas.nombre)                        #Volvemos a imprimir\n",
    "Tomas.peso = 28\n",
    "del Tomas.nombre                            #Borramos el nombre utilizando deleter"
   ]
  },
  {
   "cell_type": "code",
   "execution_count": 9,
   "metadata": {},
   "outputs": [
    {
     "name": "stdout",
     "output_type": "stream",
     "text": [
      "None\n",
      "Guatemala\n"
     ]
    }
   ],
   "source": [
    "#Encapsulamiento, getters y setters\n",
    "class CasillaDeVotacion:\n",
    "    \n",
    "    def __init__(self, identificador, pais):\n",
    "        self.__identificador = identificador\n",
    "        self.__pais = pais\n",
    "        self.__region = None\n",
    "\n",
    "    @property\n",
    "    def region(self):\n",
    "        return self.__region\n",
    "\n",
    "    @region.setter\n",
    "    def region(self, region):\n",
    "        if region in self.__pais:\n",
    "            self.__region = region\n",
    "        else:\n",
    "            raise ValueError(f'La region {region} no es valida en {self.__pais}')\n",
    "\n",
    "\n",
    "casilla = CasillaDeVotacion(123,['Guatemala','Zacapa'])\n",
    "print(casilla.region)\n",
    "casilla.region = 'Guatemala'\n",
    "print(casilla.region)\n",
    "\n"
   ]
  },
  {
   "cell_type": "code",
   "execution_count": 11,
   "metadata": {},
   "outputs": [
    {
     "name": "stdout",
     "output_type": "stream",
     "text": [
      "12\n",
      "25\n"
     ]
    }
   ],
   "source": [
    "#Herencia\n",
    "\n",
    "class Rectangulo:\n",
    "    def __init__(self, base, altura):\n",
    "        self.base = base\n",
    "        self.altura = altura\n",
    "    def area(self):\n",
    "        return self.base*self.altura\n",
    "\n",
    "# En python para heredar una clase se utiliza de la siguiente manera\n",
    "class Cuadrado(Rectangulo):\n",
    "    def __init__(self, lado):\n",
    "        super().__init__(lado, lado)\n",
    "\n",
    "if __name__ == \"__main__\":\n",
    "    rectangulo = Rectangulo(base=3, altura=4)\n",
    "    print(rectangulo.area())\n",
    "#lo interesante de las herencias es que pueden utilizar métodos de la clase padre\n",
    "    cuadrado = Cuadrado(lado=5)\n",
    "    print(cuadrado.area())\n"
   ]
  },
  {
   "cell_type": "code",
   "execution_count": 15,
   "metadata": {},
   "outputs": [
    {
     "name": "stdout",
     "output_type": "stream",
     "text": [
      "Ando caminando\n",
      "Ando moviendome en mi bicicleta\n"
     ]
    }
   ],
   "source": [
    "#Polimorfismo\n",
    "class Persona:\n",
    "    def __init__(self, nombre):\n",
    "        self.nombre = nombre\n",
    "        self._action = 'Ando caminando'\n",
    "\n",
    "    def avanza(self):\n",
    "        print(f'{self._action}')\n",
    "\n",
    "\n",
    "class Ciclista(Persona):\n",
    "\n",
    "    def __init__(self, nombre):\n",
    "        super().__init__(nombre)\n",
    "        self._action = 'Ando moviendome en mi bicicleta'\n",
    "\n",
    "    def avanza(self):\n",
    "        super().avanza()\n",
    "\n",
    "def main():\n",
    "    persona = Persona('David')\n",
    "    persona.avanza()\n",
    "\n",
    "    ciclista = Ciclista('Daniel')\n",
    "    ciclista.avanza()\n",
    "\n",
    "\n",
    "if __name__ == '__main__':\n",
    "    main()"
   ]
  },
  {
   "cell_type": "code",
   "execution_count": 13,
   "metadata": {},
   "outputs": [
    {
     "name": "stdout",
     "output_type": "stream",
     "text": [
      "t= 9.298324584960938e-06\n",
      "t_r= 2.002716064453125e-05\n"
     ]
    }
   ],
   "source": [
    "# Complejidad algoritmica en Python \n",
    "import time\n",
    "\n",
    "#Implementación factorial \n",
    "\n",
    "def factorial(n):\n",
    "    respuesta = 1\n",
    "    while n>1:\n",
    "        respuesta *= n\n",
    "        n -= 1\n",
    "    return respuesta\n",
    "\n",
    "def factorial_r(n):\n",
    "    if n == 1: \n",
    "        return 1\n",
    "    return  n*factorial_r(n-1)\n",
    "\n",
    "if __name__ == \"__main__\":\n",
    "    n = 100\n",
    "    comienzo = time.time()\n",
    "    factorial(n)\n",
    "    #print(n,'!=',factorial(n))\n",
    "    final = time.time()\n",
    "    print('t=',final-comienzo)\n",
    "\n",
    "    comienzo = time.time()\n",
    "    #print(n,'!=',factorial_r(n))\n",
    "    factorial_r(n)\n",
    "    final = time.time()\n",
    "    print('t_r=',final-comienzo)"
   ]
  },
  {
   "cell_type": "code",
   "execution_count": 16,
   "metadata": {},
   "outputs": [],
   "source": [
    "#Conteo abstrarcto de operación\n",
    "def f(x):\n",
    "    respuesta = 0\n",
    "    #Loop independiente \n",
    "    for i in range(1000):\n",
    "        respuesta += 1\n",
    "    #Loop dependiente\n",
    "    for i in range(x):\n",
    "        respuesta += x\n",
    "    #Doble loop 2*x*x=2x^2 \n",
    "    for i in range(x):\n",
    "        for j in range(x):\n",
    "            respuesta += 1\n",
    "            respuesta += 1\n",
    "    #respuesta = 1002 + x + 2x^2\n",
    "    return respuesta \n",
    "    \n",
    "   "
   ]
  },
  {
   "cell_type": "code",
   "execution_count": 19,
   "metadata": {},
   "outputs": [],
   "source": [
    "# Ley de la suma\n",
    "\n",
    "def f(n):\n",
    "    for i in range(n):\n",
    "        print(i)\n",
    "    for i in range(n):\n",
    "        print(i)\n",
    "\n",
    "#O(n) + O(n) = O(n+n) = 0(2n) = 0(n) "
   ]
  },
  {
   "cell_type": "code",
   "execution_count": 18,
   "metadata": {},
   "outputs": [],
   "source": [
    "# Ley de la suma \n",
    "\n",
    "def f(n):\n",
    "    for i in range(n):\n",
    "        print(i)\n",
    "    for i in range(n*n):\n",
    "        print(i)\n",
    "\n",
    "# O(n) + O(n*n) = O(n+n^2) = O(n^2)"
   ]
  },
  {
   "cell_type": "code",
   "execution_count": 21,
   "metadata": {},
   "outputs": [
    {
     "name": "stdout",
     "output_type": "stream",
     "text": [
      "0 0\n",
      "0 1\n",
      "0 2\n",
      "0 3\n",
      "0 4\n",
      "0 5\n",
      "0 6\n",
      "0 7\n",
      "0 8\n",
      "0 9\n",
      "1 0\n",
      "1 1\n",
      "1 2\n",
      "1 3\n",
      "1 4\n",
      "1 5\n",
      "1 6\n",
      "1 7\n",
      "1 8\n",
      "1 9\n",
      "2 0\n",
      "2 1\n",
      "2 2\n",
      "2 3\n",
      "2 4\n",
      "2 5\n",
      "2 6\n",
      "2 7\n",
      "2 8\n",
      "2 9\n",
      "3 0\n",
      "3 1\n",
      "3 2\n",
      "3 3\n",
      "3 4\n",
      "3 5\n",
      "3 6\n",
      "3 7\n",
      "3 8\n",
      "3 9\n",
      "4 0\n",
      "4 1\n",
      "4 2\n",
      "4 3\n",
      "4 4\n",
      "4 5\n",
      "4 6\n",
      "4 7\n",
      "4 8\n",
      "4 9\n",
      "5 0\n",
      "5 1\n",
      "5 2\n",
      "5 3\n",
      "5 4\n",
      "5 5\n",
      "5 6\n",
      "5 7\n",
      "5 8\n",
      "5 9\n",
      "6 0\n",
      "6 1\n",
      "6 2\n",
      "6 3\n",
      "6 4\n",
      "6 5\n",
      "6 6\n",
      "6 7\n",
      "6 8\n",
      "6 9\n",
      "7 0\n",
      "7 1\n",
      "7 2\n",
      "7 3\n",
      "7 4\n",
      "7 5\n",
      "7 6\n",
      "7 7\n",
      "7 8\n",
      "7 9\n",
      "8 0\n",
      "8 1\n",
      "8 2\n",
      "8 3\n",
      "8 4\n",
      "8 5\n",
      "8 6\n",
      "8 7\n",
      "8 8\n",
      "8 9\n",
      "9 0\n",
      "9 1\n",
      "9 2\n",
      "9 3\n",
      "9 4\n",
      "9 5\n",
      "9 6\n",
      "9 7\n",
      "9 8\n",
      "9 9\n"
     ]
    }
   ],
   "source": [
    "# Ley de la multiplicación\n",
    "\n",
    "def f(n):\n",
    "    for i in range(n):\n",
    "        for j in range(n):\n",
    "            print(i,j)\n",
    "    \n",
    "f(10)"
   ]
  },
  {
   "cell_type": "code",
   "execution_count": 22,
   "metadata": {},
   "outputs": [],
   "source": [
    "#Recursividad múltiple\n",
    "def fibonacci(n):\n",
    "    if n == 0 or n ==1:\n",
    "        return 1\n",
    "    return fibonacci(n-1)+fibonacci(n-2)\n",
    "\n",
    "# Algoritmo del tipo O(2^n)"
   ]
  },
  {
   "cell_type": "code",
   "execution_count": 2,
   "metadata": {},
   "outputs": [
    {
     "name": "stdout",
     "output_type": "stream",
     "text": [
      "[28, 41, 65, 70, 84, 12, 9, 60, 83, 65]\n",
      "El elemento 10 no esta en la lista\n"
     ]
    }
   ],
   "source": [
    "import random\n",
    "\n",
    "def busqueda_lineal(lista, objetivo):\n",
    "    match = False\n",
    "\n",
    "    for elemento in lista: # O(n)\n",
    "        if elemento == objetivo:\n",
    "            match = True\n",
    "            break\n",
    "\n",
    "    return match\n",
    "\n",
    "\n",
    "if __name__ == '__main__':\n",
    "    tamano_de_lista = int(input('De que tamano sera la lista? '))\n",
    "    objetivo = int(input('Que numero quieres encontrar? '))\n",
    "\n",
    "    lista = [random.randint(0, 100) for i in range(tamano_de_lista)]\n",
    "\n",
    "    encontrado = busqueda_lineal(lista, objetivo)\n",
    "    print(lista)\n",
    "    print(f'El elemento {objetivo} {\"esta\" if encontrado else \"no esta\"} en la lista')"
   ]
  },
  {
   "cell_type": "code",
   "execution_count": 6,
   "metadata": {},
   "outputs": [
    {
     "name": "stdout",
     "output_type": "stream",
     "text": [
      "Buscando 44 entre 3 y 99\n",
      "Buscando 44 entre 51 y 99\n",
      "Buscando 44 entre 51 y 74\n",
      "Buscando 44 entre 51 y 42\n",
      "Buscando 44 entre 51 y 33\n",
      "[3, 5, 9, 14, 16, 16, 16, 26, 33, 33, 42, 51, 69, 74, 78, 81, 86, 92, 93, 99]\n",
      "El elemento 44 no esta en la lista\n"
     ]
    }
   ],
   "source": [
    "import random \n",
    "\n",
    "def busqueda_binaria(lista, comienzo, final, objetivo):\n",
    "    print(f'Buscando {objetivo} entre {lista[comienzo]} y {lista[final-1]}')\n",
    "    if comienzo > final:\n",
    "        return False\n",
    "    medio = (comienzo + final)//2 #División de enteros\n",
    "\n",
    "    if lista[medio] == objetivo:\n",
    "        return True\n",
    "    elif lista[medio] < objetivo:\n",
    "        return busqueda_binaria(lista, medio+1 , final, objetivo)\n",
    "    else:\n",
    "        return busqueda_binaria(lista, comienzo, medio - 1, objetivo)\n",
    "\n",
    "\n",
    "if __name__ == '__main__':\n",
    "    tamano_de_lista = int(input('De que tamano es la lista? '))\n",
    "    objetivo = int(input('Que numero quieres encontrar? '))\n",
    "\n",
    "    lista = sorted([random.randint(0, 100) for i in range(tamano_de_lista)])\n",
    "\n",
    "    encontrado = busqueda_binaria(lista, 0, len(lista), objetivo)\n",
    "\n",
    "    print(lista)\n",
    "    print(f'El elemento {objetivo} {\"esta\" if encontrado else \"no esta\"} en la lista')"
   ]
  },
  {
   "cell_type": "code",
   "execution_count": 17,
   "metadata": {},
   "outputs": [
    {
     "name": "stdout",
     "output_type": "stream",
     "text": [
      "[80, 34, 4, 87, 58]\n",
      "[34, 80, 4, 87, 58]\n",
      "[34, 4, 80, 87, 58]\n",
      "[34, 4, 80, 58, 87]\n",
      "[4, 34, 80, 58, 87]\n",
      "[4, 34, 58, 80, 87]\n",
      "[4, 34, 58, 80, 87]\n"
     ]
    }
   ],
   "source": [
    "import random \n",
    "\n",
    "def ordenamiento_de_burbuja(lista):\n",
    "    n = len(lista)\n",
    "\n",
    "    for i in range(n):\n",
    "        for j in range(0,n-i-1):\n",
    "            if lista[j] > lista[j+1]:\n",
    "                lista[j], lista[j+1] = lista[j+1], lista[j]\n",
    "                print(lista)\n",
    "    return lista\n",
    "\n",
    "if __name__ == '__main__':\n",
    "    tamano_de_lista = int(input('De que tamano es la lista? '))\n",
    "\n",
    "    lista = [random.randint(0, 100) for i in range(tamano_de_lista)]\n",
    "    print(lista)\n",
    "\n",
    "    lista_ordenada = ordenamiento_de_burbuja(lista)\n",
    "    print(lista_ordenada)\n"
   ]
  },
  {
   "cell_type": "code",
   "execution_count": 24,
   "metadata": {},
   "outputs": [
    {
     "name": "stdout",
     "output_type": "stream",
     "text": [
      "[64, 42, 25, 95]\n",
      "--------------------\n",
      "[64, 42] ***** [25, 95]\n",
      "[64] ***** [42]\n",
      "izquierda [64], derecha [42]\n",
      "[42, 64]\n",
      "--------------------------------------------------\n",
      "[25] ***** [95]\n",
      "izquierda [25], derecha [95]\n",
      "[25, 95]\n",
      "--------------------------------------------------\n",
      "izquierda [42, 64], derecha [25, 95]\n",
      "[25, 42, 64, 95]\n",
      "--------------------------------------------------\n",
      "[25, 42, 64, 95]\n"
     ]
    }
   ],
   "source": [
    "import random\n",
    "\n",
    "def ordenamiento_por_mezcla(lista):\n",
    "    if len(lista) > 1:\n",
    "        medio = len(lista) // 2\n",
    "        izquierda = lista[:medio]\n",
    "        derecha = lista[medio:]\n",
    "        print(izquierda, '*' * 5, derecha)\n",
    "\n",
    "        # llamada recursiva en cada mitad\n",
    "        ordenamiento_por_mezcla(izquierda)\n",
    "        ordenamiento_por_mezcla(derecha)\n",
    "\n",
    "        # Iteradores para recorrer las dos sublistas\n",
    "        i = 0\n",
    "        j = 0\n",
    "        # Iterador para la lista principal\n",
    "        k = 0\n",
    "\n",
    "        while i < len(izquierda) and j < len(derecha):\n",
    "            if izquierda[i] < derecha[j]:\n",
    "                lista[k] = izquierda[i]\n",
    "                i += 1\n",
    "            else:\n",
    "                lista[k] = derecha[j]\n",
    "                j += 1\n",
    "\n",
    "            k += 1\n",
    "\n",
    "        while i < len(izquierda):\n",
    "            lista[k] = izquierda[i]\n",
    "            i += 1\n",
    "            k +=1\n",
    "\n",
    "        while j < len(derecha):\n",
    "            lista[k] = derecha[j]\n",
    "            j += 1\n",
    "            k += 1\n",
    "        \n",
    "        print(f'izquierda {izquierda}, derecha {derecha}')\n",
    "        print(lista)\n",
    "        print('-' * 50)\n",
    "\n",
    "    return lista\n",
    "\n",
    "\n",
    "if __name__ == '__main__':\n",
    "    tamano_de_lista = int(input('De que tamano sera la lista? '))\n",
    "\n",
    "    lista = [random.randint(0, 100) for i in range(tamano_de_lista)]\n",
    "    print(lista)\n",
    "    print('-' * 20)\n",
    "\n",
    "    lista_ordenada = ordenamiento_por_mezcla(lista)\n",
    "    print(lista_ordenada)"
   ]
  },
  {
   "cell_type": "code",
   "execution_count": 2,
   "metadata": {},
   "outputs": [],
   "source": [
    "from bokeh.plotting import figure, output_file, show\n",
    "\n",
    "if __name__ == \"__main__\":\n",
    "    output_file = ('graficado_simple.html')\n",
    "    fig = figure()\n",
    "\n",
    "    total_vals = int(input('Cuántos valores quiere graficar?'))\n",
    "    x_vals = list(range(total_vals))\n",
    "    y_vals = []\n",
    "    for i in x_vals:\n",
    "        val = int(input('valor Y para {i}'))\n",
    "        y_vals.append(val)\n",
    "\n",
    "    fig.line(x_vals, y_vals, line_width = 2)\n",
    "    show(fig)"
   ]
  },
  {
   "cell_type": "code",
   "execution_count": 4,
   "metadata": {},
   "outputs": [
    {
     "name": "stdout",
     "output_type": "stream",
     "text": [
      "100\n"
     ]
    }
   ],
   "source": [
    "#Algoritmos codiciosos\n",
    "#Funciones recursivas  1-0 problema del morral\n",
    "\n",
    "def morral(tamano_morral, pesos, valores, n):\n",
    "    \n",
    "    if n == 0 or tamano_morral == 0:\n",
    "        return 0 \n",
    "    if pesos[n-1] > tamano_morral:\n",
    "        return morral(tamano_morral, pesos, valores, n-1)\n",
    "    return max(valores[n-1] + morral(tamano_morral - pesos[n-1], pesos, valores, n-1),  \n",
    "                morral(tamano_morral, pesos, valores, n-1))\n",
    "\n",
    "if __name__ == \"__main__\":\n",
    "    valores = [60, 100, 120]\n",
    "    pesos = [10, 20 , 30]\n",
    "    tamano_morral = 25\n",
    "    n = len(valores)\n",
    "\n",
    "    resultado = morral(tamano_morral, pesos, valores, n)\n",
    "    print(resultado)\n"
   ]
  }
 ],
 "metadata": {
  "kernelspec": {
   "display_name": "Python 3.9.12 ('jeff3.9')",
   "language": "python",
   "name": "python3"
  },
  "language_info": {
   "codemirror_mode": {
    "name": "ipython",
    "version": 3
   },
   "file_extension": ".py",
   "mimetype": "text/x-python",
   "name": "python",
   "nbconvert_exporter": "python",
   "pygments_lexer": "ipython3",
   "version": "3.9.12"
  },
  "orig_nbformat": 4,
  "vscode": {
   "interpreter": {
    "hash": "aaf08ceb9fb0bad32b66a0f10535e21f04246bff06ba0caeca4cb11e070b3a96"
   }
  }
 },
 "nbformat": 4,
 "nbformat_minor": 2
}
